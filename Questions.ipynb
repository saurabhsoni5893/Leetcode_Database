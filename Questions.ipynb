{
  "nbformat": 4,
  "nbformat_minor": 0,
  "metadata": {
    "colab": {
      "name": "Questions.ipynb",
      "provenance": [],
      "collapsed_sections": []
    },
    "kernelspec": {
      "name": "python3",
      "display_name": "Python 3"
    }
  },
  "cells": [
    {
      "cell_type": "markdown",
      "metadata": {
        "id": "21xGJJD_uu2X",
        "colab_type": "text"
      },
      "source": [
        "**Question: 1**<br>\n",
        "**175. Combine Two Tables**     \n",
        "**Difficulty: Easy**\n",
        "\n",
        "Table: Person\n",
        "\n",
        "| Column Name | Type    |\n",
        "|-------------|---------|\n",
        "| PersonId    | int     |\n",
        "| FirstName   | varchar |\n",
        "| LastName    | varchar |\n",
        "\n",
        "PersonId is the primary key column for this table.<br><br>\n",
        "Table: Address<br>\n",
        "\n",
        "| Column Name | Type    |\n",
        "|-------------|---------|\n",
        "| AddressId   | int     |\n",
        "| PersonId    | int     |\n",
        "| City        | varchar |\n",
        "| State       | varchar |\n",
        "\n",
        "AddressId is the primary key column for this table.<br>\n",
        "<br>\n",
        "Write a SQL query for a report that provides the following information for each person in the Person table, regardless if there is an address for each of those people:\n",
        "\n",
        "FirstName, LastName, City, State"
      ]
    },
    {
      "cell_type": "code",
      "metadata": {
        "id": "OCiOlTq89S-K",
        "colab_type": "code",
        "colab": {}
      },
      "source": [
        "Solution:\n",
        "\n",
        "SELECT FirstName, LastName, City, State\n",
        "FROM Person left outer join Address\n",
        "on Person.PersonId = Address.PersonId "
      ],
      "execution_count": null,
      "outputs": []
    },
    {
      "cell_type": "markdown",
      "metadata": {
        "id": "OTVIkoMN489p",
        "colab_type": "text"
      },
      "source": [
        "**Question: 2**<br>\n",
        "**176. Second Highest Salary**     \n",
        "**Difficulty: Easy**\n",
        "\n",
        "Write a SQL query to get the second highest salary from the Employee table.\n",
        "\n",
        "\n",
        "| Id | Salary |\n",
        "|----|--------|\n",
        "| 1  | 100    |\n",
        "| 2  | 200    |\n",
        "| 3  | 300    |\n",
        "\n",
        "For example, given the above Employee table, the query should return 200 as the second highest salary. If there is no second highest salary, then the query should return null.\n",
        "\n",
        "| SecondHighestSalary |\n",
        "|---------------------|\n",
        "| 200                 |\n"
      ]
    },
    {
      "cell_type": "code",
      "metadata": {
        "id": "EjmFURn_8Cn6",
        "colab_type": "code",
        "colab": {}
      },
      "source": [
        "Solution:\n",
        "\n",
        "SELECT DISTINCT Salary \n",
        "FROM Employee \n",
        "ORDER BY Salary DESC \n",
        "LIMIT 1 \n",
        "OFFSET 1"
      ],
      "execution_count": null,
      "outputs": []
    },
    {
      "cell_type": "markdown",
      "metadata": {
        "id": "i4Bv4lGx9Vl7",
        "colab_type": "text"
      },
      "source": [
        "**Question: 3**<br>\n",
        "**181. Employees Earning More Than Their Managers**     \n",
        "**Difficulty: Easy**\n",
        "\n",
        "The Employee table holds all employees including their managers. Every employee has an Id, and there is also a column for the manager Id.\n",
        "\n",
        "\n",
        "| Id | Name  | Salary | ManagerId |\n",
        "|----|-------|--------|-----------|\n",
        "| 1  | Joe   | 70000  | 3         |\n",
        "| 2  | Henry | 80000  | 4         |\n",
        "| 3  | Sam   | 60000  | NULL      |\n",
        "| 4  | Max   | 90000  | NULL      |\n",
        "\n",
        "Given the Employee table, write a SQL query that finds out employees who earn more than their managers. For the above table, Joe is the only employee who earns more than his manager.\n",
        "\n",
        "\n",
        "| Employee |\n",
        "|----------|\n",
        "| Joe      |"
      ]
    },
    {
      "cell_type": "code",
      "metadata": {
        "id": "qKt2QKPz_VM-",
        "colab_type": "code",
        "colab": {}
      },
      "source": [
        "Solution:\n",
        "\n",
        "SELECT e.Name as Employee \n",
        "FROM Employee e\n",
        "JOIN Employee m\n",
        "ON e.ManagerId = m.Id\n",
        "WHERE e.Salary > m.Salary"
      ],
      "execution_count": null,
      "outputs": []
    },
    {
      "cell_type": "markdown",
      "metadata": {
        "id": "PYUR8GmjBAhi",
        "colab_type": "text"
      },
      "source": [
        "**Question: 4**<br>\n",
        "**182. Duplicate Emails**     \n",
        "**Difficulty: Easy**\n",
        "\n",
        "Write a SQL query to find all duplicate emails in a table named Person.\n",
        "\n",
        "| Id | Email   |\n",
        "|----|---------|\n",
        "| 1  | a@b.com |\n",
        "| 2  | c@d.com |\n",
        "| 3  | a@b.com |\n",
        "\n",
        "For example, your query should return the following for the above table:\n",
        "\n",
        "| Email   |\n",
        "|---------|\n",
        "| a@b.com |"
      ]
    },
    {
      "cell_type": "code",
      "metadata": {
        "id": "-NyqIlzLHQyJ",
        "colab_type": "code",
        "colab": {}
      },
      "source": [
        "Solution:\n",
        "\n",
        "SELECT Email\n",
        "FROM Person\n",
        "GROUP BY Email\n",
        "HAVING COUNT(Email) > 1;"
      ],
      "execution_count": null,
      "outputs": []
    },
    {
      "cell_type": "markdown",
      "metadata": {
        "id": "kLzqz5fuI4KN",
        "colab_type": "text"
      },
      "source": [
        "**Question: 5**<br>\n",
        "**183. Customers Who Never Order**<br>\n",
        "**Difficulty: Easy**<br>\n",
        "\n",
        "Suppose that a website contains two tables, the Customers table and the Orders table. Write a SQL query to find all customers who never order anything.\n",
        "\n",
        "Table: Customers\n",
        "\n",
        "| Id | Name  |\n",
        "|----|-------|\n",
        "| 1  | Joe   |\n",
        "| 2  | Henry |\n",
        "| 3  | Sam   |\n",
        "| 4  | Max   |\n",
        "\n",
        "Table: Orders.\n",
        "\n",
        "| Id | CustomerId |\n",
        "|----|------------|\n",
        "| 1  | 3          |\n",
        "| 2  | 1          |\n",
        "\n",
        "Using the above tables as example, return the following:\n",
        "\n",
        "| Customers |\n",
        "|-----------|\n",
        "| Henry     |\n",
        "| Max       |"
      ]
    },
    {
      "cell_type": "code",
      "metadata": {
        "id": "QVwfgDeDKVdF",
        "colab_type": "code",
        "colab": {}
      },
      "source": [
        "Solution:\n",
        "\n",
        "SELECT Customers.Name as 'Customers'\n",
        "FROM Customers\n",
        "WHERE Customers.Id NOT IN\n",
        "(\n",
        "SELECT CustomerId \n",
        "FROM Orders\n",
        ");"
      ],
      "execution_count": null,
      "outputs": []
    },
    {
      "cell_type": "markdown",
      "metadata": {
        "id": "Yy6pukHbQ-bz",
        "colab_type": "text"
      },
      "source": [
        "**Question: 6**<br>\n",
        "**196. Delete Duplicate Emails**<br>\n",
        "**Difficulty: Easy**<br>\n",
        "\n",
        "Write a SQL query to delete all duplicate email entries in a table named Person, keeping only unique emails based on its smallest Id.\n",
        "\n",
        "| Id | Email            |\n",
        "|----|------------------|\n",
        "| 1  | john@example.com |\n",
        "| 2  | bob@example.com  |\n",
        "| 3  | john@example.com |\n",
        "\n",
        "Id is the primary key column for this table.\n",
        "For example, after running your query, the above Person table should have the following rows:\n",
        "\n",
        "| Id | Email            |\n",
        "|----|------------------|\n",
        "| 1  | john@example.com |\n",
        "| 2  | bob@example.com  |\n",
        "\n",
        "Note:\n",
        "\n",
        "Your output is the whole Person table after executing your sql. Use delete statement."
      ]
    },
    {
      "cell_type": "code",
      "metadata": {
        "id": "KZ7XI3qWRDWv",
        "colab_type": "code",
        "colab": {}
      },
      "source": [
        "Solution:\n",
        "\n",
        "DELETE p1 \n",
        "FROM Person p1 JOIN Person p2\n",
        "ON p1.Email = p2.Email\n",
        "WHERE p1.id > p2.id"
      ],
      "execution_count": null,
      "outputs": []
    },
    {
      "cell_type": "markdown",
      "metadata": {
        "id": "Z5zJBCFedVFM",
        "colab_type": "text"
      },
      "source": [
        "**Question: 7**<br>\n",
        "**197. Rising Temperature**<br>\n",
        "**Difficulty: Easy**<br>\n",
        "\n",
        "Given a Weather table, write a SQL query to find all dates' Ids with higher temperature compared to its previous (yesterday's) dates.\n",
        "\n",
        "| Id(INT) | RecordDate(DATE) | Temperature(INT) |\n",
        "|---------|------------------|------------------|\n",
        "|       1 |       2015-01-01 |               10 |\n",
        "|       2 |       2015-01-02 |               25 |\n",
        "|       3 |       2015-01-03 |               20 |\n",
        "|       4 |       2015-01-04 |               30 |\n",
        "\n",
        "For example, return the following Ids for the above Weather table:\n",
        "\n",
        "\n",
        "| Id |\n",
        "|----|\n",
        "|  2 |\n",
        "|  4 |"
      ]
    },
    {
      "cell_type": "code",
      "metadata": {
        "id": "RQzlurajTNp3",
        "colab_type": "code",
        "colab": {}
      },
      "source": [
        "Solution:\n",
        "\n",
        "SELECT w1.id\n",
        "FROM weather w1 INNER JOIN weather w2\n",
        "ON w1.id <> w2.id\n",
        "WHERE w1.Temperature > w2.Temperature AND w1.RecordDate = DATEADD(DAY,1,w2.RecordDate);"
      ],
      "execution_count": null,
      "outputs": []
    },
    {
      "cell_type": "code",
      "metadata": {
        "id": "ij_9HR92dx5-",
        "colab_type": "code",
        "colab": {}
      },
      "source": [
        ""
      ],
      "execution_count": null,
      "outputs": []
    }
  ]
}